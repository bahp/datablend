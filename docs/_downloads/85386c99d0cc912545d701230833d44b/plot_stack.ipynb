{
  "cells": [
    {
      "cell_type": "code",
      "execution_count": null,
      "metadata": {
        "collapsed": false
      },
      "outputs": [],
      "source": [
        "%matplotlib inline"
      ]
    },
    {
      "cell_type": "markdown",
      "metadata": {},
      "source": [
        "\n# StackWidget\n"
      ]
    },
    {
      "cell_type": "code",
      "execution_count": null,
      "metadata": {
        "collapsed": false
      },
      "outputs": [],
      "source": [
        "# Import\nimport pandas as pd\n\n# DataBlend library\nfrom datablend.core.blend.template import BlenderTemplate\nfrom datablend.core.widgets.stack import StackWidget\n\n# ------------------------\n# Constants\n# ------------------------\n# Template\ntemplate = [\n    # Example rename widget\n    {'from_name': 'StudyNo',\n     'to_name': 'study_number'},\n\n    {'from_name': 'DateEnrol',\n     'to_name': 'date_enrolment',\n     'event': 'event_enrolment'},\n\n    {'from_name': 'Sex',\n     'to_name': 'gender',\n     'timestamp': 'date_enrolment'},\n\n    {'from_name': 'Tmp',\n     'to_name': 'body_temperature',\n     'timestamp': 'date_enrolment',\n     'unit': 'celsius'},\n\n    {'from_name': 'Tmp2',\n     'to_name': 'body_temperature',\n     'timestamp': 'date_enrolment',\n     'unit': 'celsius'}\n]\n\n# Data\ndata = [\n    {'StudyNo': '32dx-001', 'DateEnrol': '2020/12/01', 'Sex': 1, 'Tmp': 37.5},\n    {'StudyNo': '32dx-002', 'DateEnrol': '2020/12/04', 'Sex': 2, 'Tmp': 36.8},\n    {'StudyNo': '32dx-003', 'DateEnrol': '2020/12/08', 'Sex': 1, 'Tmp': 39.2, 'Tmp2': 35.0},\n    {'StudyNo': '32dx-004', 'DateEnrol': '2020/12/11', 'Sex': 1},\n]\n\n# Blender template\nbt = BlenderTemplate().fit(template)\n\n# Create data\ndata = pd.DataFrame(data)\n\n# This breaks because the EventWidget is used on the FullTemplate\n# but is not implemented within the StackWidget. However, the\n# stack widget creates tuples from both time stamp and events.\n# EventWidget was not executed and therefore event_enrolment does\n# not exist.\n\n# Stack data\nstack = StackWidget(index=['study_number']).fit_transform(bt, data)\n\n# Show\nprint(\"\\nOriginal:\")\nprint(data)\nprint(\"\\nStack:\")\nprint(stack)"
      ]
    }
  ],
  "metadata": {
    "kernelspec": {
      "display_name": "Python 3",
      "language": "python",
      "name": "python3"
    },
    "language_info": {
      "codemirror_mode": {
        "name": "ipython",
        "version": 3
      },
      "file_extension": ".py",
      "mimetype": "text/x-python",
      "name": "python",
      "nbconvert_exporter": "python",
      "pygments_lexer": "ipython3",
      "version": "3.7.7"
    }
  },
  "nbformat": 4,
  "nbformat_minor": 0
}
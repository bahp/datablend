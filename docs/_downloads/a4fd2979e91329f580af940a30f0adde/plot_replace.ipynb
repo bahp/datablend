{
  "cells": [
    {
      "cell_type": "code",
      "execution_count": null,
      "metadata": {
        "collapsed": false
      },
      "outputs": [],
      "source": [
        "%matplotlib inline"
      ]
    },
    {
      "cell_type": "markdown",
      "metadata": {},
      "source": [
        "\n# ReplaceWidget\n"
      ]
    },
    {
      "cell_type": "code",
      "execution_count": null,
      "metadata": {
        "collapsed": false
      },
      "outputs": [],
      "source": [
        "# Import\nimport pandas as pd\n\n# DataBlend library\nfrom datablend.core.blend import BlenderTemplate\nfrom datablend.core.widgets.format import ReplaceWidget\n\n# ------------------------\n# Constants\n# ------------------------\n# Template\ntemplate = [\n    # Example rename widget\n    {'from_name': 'StudyNo', 'to_name': 'study_number'},\n    {'from_name': 'Temp', 'to_name': 'body_temperature'},\n    {'from_name': 'Shock', 'to_name': 'shock'},\n    {'from_name': 'Sex', 'to_name': 'gender',\n     'to_replace': \"{'Male': 1, 'Female': 2, 'Unknown': 8}\"}\n]\n\n# Data\ndata = [\n    {'StudyNo': '32dx-001', 'Temp': 37.2, 'Shock': False, 'Sex': 1},\n    {'StudyNo': '32dx-002', 'Temp': 36.5, 'Shock': False, 'Sex': 1},\n    {'StudyNo': '32dx-003', 'Temp': 39.8, 'Shock': True, 'Sex': 2},\n    {'StudyNo': '32dx-004', 'Temp': 37.4, 'Shock': False, 'Sex': 1},\n\n    # To test warnings\n    # {'StudyNo': '32dx-004', 'Temp': 37.4, 'Shock': False, 'Sex': 3},\n    # {'StudyNo': '32dx-004', 'Temp': 37.4, 'Shock': False, 'Sex': 4}\n]\n\n# Blender template\nbt = BlenderTemplate().fit(template)\n\n# Create data\ndata = pd.DataFrame(data)\n\n# Create widgets and transform\ntrans = ReplaceWidget().fit_transform(bt, data)\n\n# Show\nprint(\"\\nOriginal:\")\nprint(data)\nprint(\"\\nTransformed:\")\nprint(trans)"
      ]
    }
  ],
  "metadata": {
    "kernelspec": {
      "display_name": "Python 3",
      "language": "python",
      "name": "python3"
    },
    "language_info": {
      "codemirror_mode": {
        "name": "ipython",
        "version": 3
      },
      "file_extension": ".py",
      "mimetype": "text/x-python",
      "name": "python",
      "nbconvert_exporter": "python",
      "pygments_lexer": "ipython3",
      "version": "3.7.7"
    }
  },
  "nbformat": 4,
  "nbformat_minor": 0
}
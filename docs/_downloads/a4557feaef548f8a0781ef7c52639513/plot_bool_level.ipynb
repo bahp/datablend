{
  "cells": [
    {
      "cell_type": "code",
      "execution_count": null,
      "metadata": {
        "collapsed": false
      },
      "outputs": [],
      "source": [
        "%matplotlib inline"
      ]
    },
    {
      "cell_type": "markdown",
      "metadata": {},
      "source": [
        "\n# Consistent columns (bool_level)\n"
      ]
    },
    {
      "cell_type": "code",
      "execution_count": null,
      "metadata": {
        "collapsed": false
      },
      "outputs": [],
      "source": [
        "# Libraries\nimport pandas as pd\n\n# Specific\nfrom itertools import product\n\n# DataBlend\nfrom datablend.core.repair.correctors import bool_level_correction\n\n# -----------------------------\n# Main\n# -----------------------------\n# Possible values\nbooleans = [False, True, None]\nnumbers = [0, 1, 2, 3, None]\n\n# Product\nmatrix = product(booleans, numbers)\n\n# Combinations\ndata = pd.DataFrame(matrix,\n    columns=['abdominal_pain',\n             'abdominal_pain_level'])\n\n# Corrections\ncorrection = bool_level_correction(\n    data.copy(deep=True),\n    sbool='abdominal_pain',\n    slevel='abdominal_pain_level')\n\n# Show data any\nprint(\"\\nNote: When both abdominal_pain (bool) and abdominal_pain_level\\n \"\n      \"(int) are both None, the resulting value is False and 0\\n \"\n      \"respectively. They could/should be left as None.\")\n\nprint(\"\\nData:\")\nprint(data)\nprint(\"\\nCorrections:\")\nprint(correction)"
      ]
    }
  ],
  "metadata": {
    "kernelspec": {
      "display_name": "Python 3",
      "language": "python",
      "name": "python3"
    },
    "language_info": {
      "codemirror_mode": {
        "name": "ipython",
        "version": 3
      },
      "file_extension": ".py",
      "mimetype": "text/x-python",
      "name": "python",
      "nbconvert_exporter": "python",
      "pygments_lexer": "ipython3",
      "version": "3.7.7"
    }
  },
  "nbformat": 4,
  "nbformat_minor": 0
}
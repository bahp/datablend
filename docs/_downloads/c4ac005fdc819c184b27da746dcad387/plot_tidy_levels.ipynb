{
  "cells": [
    {
      "cell_type": "code",
      "execution_count": null,
      "metadata": {
        "collapsed": false
      },
      "outputs": [],
      "source": [
        "%matplotlib inline"
      ]
    },
    {
      "cell_type": "markdown",
      "metadata": {},
      "source": [
        "\n# TidyLevels\n\n.. deprecated:\n"
      ]
    },
    {
      "cell_type": "code",
      "execution_count": null,
      "metadata": {
        "collapsed": false
      },
      "outputs": [],
      "source": [
        "# Import\nimport pandas as pd\n\n# DataBlend library\nfrom datablend.core.widgets.tidy import LevelTidyWidget\n\n# ------------------------\n# Constants\n# ------------------------\n# Template\ntemplate = [\n    # Example rename widget\n    {'from_name': 'StudyNo', 'to_name': 'study_number'},\n    {'from_name': 'Pain', 'to_name': 'pain_level'}\n]\n\n# Transformed data\ntrans = [\n    {'study_number': '32dx-001', 'pain_level': 1},\n    {'study_number': '32dx-001', 'pain_level': 4},\n    {'study_number': '32dx-002'},\n    {'study_number': '32dx-003', 'pain_level': 4},\n    {'study_number': '32dx-003'}\n]\n\n# Create data\ndata = pd.DataFrame(trans)\n\n# Create widget\nwidget = LevelTidyWidget().fit(template)\n\n# Transform\ntransformed = widget.transform(data)\n\n# Show\nprint(\"\\nOriginal:\")\nprint(data)\nprint(\"\\nTransformed:\")\nprint(transformed)\nprint(\"\\nStacked:\")"
      ]
    }
  ],
  "metadata": {
    "kernelspec": {
      "display_name": "Python 3",
      "language": "python",
      "name": "python3"
    },
    "language_info": {
      "codemirror_mode": {
        "name": "ipython",
        "version": 3
      },
      "file_extension": ".py",
      "mimetype": "text/x-python",
      "name": "python",
      "nbconvert_exporter": "python",
      "pygments_lexer": "ipython3",
      "version": "3.7.7"
    }
  },
  "nbformat": 4,
  "nbformat_minor": 0
}
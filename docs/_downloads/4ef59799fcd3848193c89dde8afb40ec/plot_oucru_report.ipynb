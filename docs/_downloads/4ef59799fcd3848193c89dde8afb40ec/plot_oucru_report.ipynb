{
  "cells": [
    {
      "cell_type": "code",
      "execution_count": null,
      "metadata": {
        "collapsed": false
      },
      "outputs": [],
      "source": [
        "%matplotlib inline"
      ]
    },
    {
      "cell_type": "markdown",
      "metadata": {},
      "source": [
        "\n# oucru_report\n"
      ]
    },
    {
      "cell_type": "code",
      "execution_count": null,
      "metadata": {
        "collapsed": false
      },
      "outputs": [],
      "source": [
        "# Libraries\nimport pandas as pd\n\n# Specific libraries\nfrom pathlib import Path\n\n# DataBlend libraries\nfrom datablend.core.repair.report import oucru_report\n\n# --------------------------\n# Configuration\n# --------------------------\n# Create path data\npath_data = Path('../oucru/oucru-full/resources/datasets/tidy')\n\n# --------------------------\n# Main\n# --------------------------\n\n# Loop filling data\nfor path in sorted(list(path_data.glob('*.csv'))):\n    # Show information\n    print(\"\\n\\nLoading... %s\" % path.stem)\n    # Read file\n    data = pd.read_csv(path, low_memory=False)\n    # Create report\n    oucru_report(data)"
      ]
    }
  ],
  "metadata": {
    "kernelspec": {
      "display_name": "Python 3",
      "language": "python",
      "name": "python3"
    },
    "language_info": {
      "codemirror_mode": {
        "name": "ipython",
        "version": 3
      },
      "file_extension": ".py",
      "mimetype": "text/x-python",
      "name": "python",
      "nbconvert_exporter": "python",
      "pygments_lexer": "ipython3",
      "version": "3.7.7"
    }
  },
  "nbformat": 4,
  "nbformat_minor": 0
}
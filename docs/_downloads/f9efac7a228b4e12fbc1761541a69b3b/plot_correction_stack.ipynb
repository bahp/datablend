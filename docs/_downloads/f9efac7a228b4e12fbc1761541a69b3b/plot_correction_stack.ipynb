{
  "cells": [
    {
      "cell_type": "code",
      "execution_count": null,
      "metadata": {
        "collapsed": false
      },
      "outputs": [],
      "source": [
        "%matplotlib inline"
      ]
    },
    {
      "cell_type": "markdown",
      "metadata": {},
      "source": [
        "\n# Repair Stack data from .yaml\n\nSee :download:`corrector.yaml <./../../../examples/correctors/corrector.yaml>`.\n"
      ]
    },
    {
      "cell_type": "code",
      "execution_count": null,
      "metadata": {
        "collapsed": false
      },
      "outputs": [],
      "source": [
        "# Import\nimport numpy as np\nimport pandas as pd\n\n# DataBlend library\nfrom datablend.core.repair.schema import SchemaCorrectionStack\n\n# ------------------------\n# Constants\n# ------------------------\n# Transformed data\ndata = [\n    {'id': '32dx-001', 'date': '2020/12/05', 'column': 'bt', 'result': 7.2, 'unit': 'celsius'},\n    {'id': '32dx-001', 'date': '2020/12/05', 'column': 'age', 'result': 32, 'unit': 'year'},\n    {'id': '32dx-001', 'date': '2020/12/05', 'column': 'gender', 'result': 'Male'},\n    {'id': '32dx-001', 'date': '2020/12/05', 'column': 'pregnant', 'result': False},\n    {'id': '32dx-001', 'date': '2020/12/05', 'column': 'pcr_dengue_serotype', 'result': 'DENV-1'},\n    {'id': '32dx-001', 'date': '2020/12/05', 'column': 'pcr_dengue_serotype', 'result': 'DENV-2'},\n    {'id': '32dx-002', 'date': '2020/12/05', 'column': 'bt', 'result': 38.2},\n    {'id': '32dx-002', 'date': '2020/12/05', 'column': 'bt', 'result': 39.7},\n    {'id': '32dx-002', 'date': '2020/12/05', 'column': 'age', 'result': 4},\n    {'id': '32dx-002', 'date': '2020/12/05', 'column': 'gender', 'result': 'Female'},\n    {'id': '32dx-002', 'date': '2020/12/05', 'column': 'pregnant', 'result': True},\n    {'id': '32dx-002', 'date': '2020/12/05', 'column': 'pregnant', 'result': False},\n    {'id': '32dx-002', 'date': '2020/12/05', 'column': 'pcr_dengue_serotype', 'result': 'DENV-3'},\n    {'id': '32dx-002', 'date': '2020/12/05', 'column': 'pcr_dengue_serotype', 'result': 'DENV-4'},\n    {'id': '32dx-002', 'date': '2020/12/05', 'column': 'wbc', 'result': '15'},\n    {'id': '32dx-002', 'date': '2020/12/05', 'column': 'wbc', 'result': '18'},\n    {'id': '32dx-002', 'date': '2020/12/06', 'column': 'wbc', 'result': '19'},\n    {'id': '32dx-002', 'date': '2020/12/07', 'column': 'wbc', 'result': '20'},\n    {'id': '32dx-003', 'date': '2020/12/05', 'column': 'vomiting', 'result': 'False'},\n    {'id': '32dx-003', 'date': '2020/12/05', 'column': 'vomiting', 'result': False},\n    {'id': '32dx-004', 'date': '2020/12/04', 'column': 'wbc', 'result': 5},\n    {'id': '32dx-004', 'date': '2020/12/05', 'column': 'vomiting', 'result': 'False'},\n    {'id': '32dx-004', 'date': '2020/12/05', 'column': 'vomiting', 'result': False},\n    {'id': '32dx-004', 'date': '2020/12/05', 'column': 'vomiting', 'result': 'True'},\n    {'id': '32dx-004', 'date': '2020/12/05', 'column': 'vomiting', 'result': True},\n    {'id': '32dx-004', 'date': '2020/12/05', 'column': 'bt', 'result': 36.5},\n    {'id': '32dx-004', 'date': '2020/12/06', 'column': 'wbc', 'result': 4},\n    {'id': '32dx-004', 'date': '2020/12/08', 'column': 'bt', 'result': 39.5},\n    {'id': '32dx-004', 'date': '2020/12/04', 'column': 'event_admission', 'result': True},\n    {'id': '32dx-004', 'date': '2020/12/05', 'column': 'event_admission', 'result': True},\n    {'id': '32dx-004', 'date': '2020/12/06', 'column': 'event_admission', 'result': False},\n    {'id': '32dx-004', 'date': '2020/12/06', 'column': 'fake', 'result': False}\n]\n\n# Parameters\nindex = ['id', 'date', 'column']\nvalue = 'result'\n\n# Filepath\nfilepath = 'corrector.yaml'\n\n# --------------------\n# Main\n# --------------------\n# Create data\ndata = pd.DataFrame(data)\n\n# Create schema corrector\nschema_corrector = \\\n    SchemaCorrectionStack(filepath=filepath)\n\n# Show schema transformations summary\n\n# Correct schema\ncorrected, report = \\\n    schema_corrector.transform(data)\n\n# Show report\n#for k,v in report.items():\n#    print(\"\\n\\nReport for {0}\".format(k))\n#    print(v)\n\n# Show\nprint(\"\\nStacked:\")\nprint(data)\nprint(\"\\nCorrected:\")\nprint(corrected)\nprint(\"\\nDtypes:\")\nprint(corrected.dtypes)\n\n\"\"\"It does not work with stack!\"\"\"\n\"\"\"\nprint(\"Corrections summary:\")\nprint(schema_corrector.features_summary().to_string())\nschema_corrector.features_summary(data).to_csv('aqui.csv')\n\"\"\""
      ]
    }
  ],
  "metadata": {
    "kernelspec": {
      "display_name": "Python 3",
      "language": "python",
      "name": "python3"
    },
    "language_info": {
      "codemirror_mode": {
        "name": "ipython",
        "version": 3
      },
      "file_extension": ".py",
      "mimetype": "text/x-python",
      "name": "python",
      "nbconvert_exporter": "python",
      "pygments_lexer": "ipython3",
      "version": "3.7.7"
    }
  },
  "nbformat": 4,
  "nbformat_minor": 0
}
{
  "cells": [
    {
      "cell_type": "code",
      "execution_count": null,
      "metadata": {
        "collapsed": false
      },
      "outputs": [],
      "source": [
        "%matplotlib inline"
      ]
    },
    {
      "cell_type": "markdown",
      "metadata": {},
      "source": [
        "\n# Fix parental fluid and load (mL)\n"
      ]
    },
    {
      "cell_type": "code",
      "execution_count": null,
      "metadata": {
        "collapsed": false
      },
      "outputs": [],
      "source": [
        "# Libraries\nimport numpy as np\nimport pandas as pd\n\n# Specific\nfrom itertools import product\nfrom itertools import combinations\n\n# DataBlend library\nfrom datablend.core.repair.correctors import oucru_parental_fluid_correction\n\n# -----------------------------\n# Main\n# -----------------------------\n\n# -----------------------------\n# pcr_dengue\n# -----------------------------\n# Possible values\nparental_fluid = [None, False, True]\nparental_fluid_volume = [None, 0, 500]\n\n# Product\nmatrix = product(parental_fluid, parental_fluid_volume)\n\n# Combinations\ndata = pd.DataFrame(matrix,\n    columns=['parental_fluid', 'parental_fluid_volume'])\n\n# Correction\ncorrection = data.copy(deep=True).drop(columns=['parental_fluid'])\ncorrection = oucru_parental_fluid_correction(correction)\n\n# Show data any\nprint(\"\\nData:\")\nprint(data)\nprint(\"\\nCorrection:\")\nprint(correction)"
      ]
    }
  ],
  "metadata": {
    "kernelspec": {
      "display_name": "Python 3",
      "language": "python",
      "name": "python3"
    },
    "language_info": {
      "codemirror_mode": {
        "name": "ipython",
        "version": 3
      },
      "file_extension": ".py",
      "mimetype": "text/x-python",
      "name": "python",
      "nbconvert_exporter": "python",
      "pygments_lexer": "ipython3",
      "version": "3.7.7"
    }
  },
  "nbformat": 4,
  "nbformat_minor": 0
}
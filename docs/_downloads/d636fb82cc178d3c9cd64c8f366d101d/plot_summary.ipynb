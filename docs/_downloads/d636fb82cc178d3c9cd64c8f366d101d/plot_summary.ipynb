{
  "cells": [
    {
      "cell_type": "code",
      "execution_count": null,
      "metadata": {
        "collapsed": false
      },
      "outputs": [],
      "source": [
        "%matplotlib inline"
      ]
    },
    {
      "cell_type": "markdown",
      "metadata": {},
      "source": [
        "\n# Summary\n"
      ]
    },
    {
      "cell_type": "markdown",
      "metadata": {},
      "source": [
        "First of all, we need to import the modules and functions that will be used\nImport\n\n"
      ]
    },
    {
      "cell_type": "code",
      "execution_count": null,
      "metadata": {
        "collapsed": false
      },
      "outputs": [],
      "source": [
        "import pandas as pd\n\n# DataBlend library\nfrom datablend.core.widgets import TemplateTransformWidget\nfrom datablend.core.widgets import RenameWidget\nfrom datablend.core.widgets import ReplaceWidget\nfrom datablend.core.widgets import DateTimeMergeWidget\nfrom datablend.core.widgets import DateFromStudyDayWidget\nfrom datablend.core.widgets import EventWidget\nfrom datablend.core.widgets import StackWidget\nfrom datablend.utils.display import str_dtypes\n\n# ------------------------\n# Constants\n# ------------------------\n# Template\ntemplate = [\n    # Example rename widget\n    {'from_name': 'StudyNo',\n     'to_name': 'study_number'},\n\n    # Example datetime merge\n    {'from_name': None,\n     'to_name': 'date_enrolment',\n     'datetime_date': 'enDate',\n     'datetime_time': 'enTime'},\n\n    # Example parameters to be stacked\n    {'from_name': 'Temp',\n     'to_name': 'body_temperature',\n     'timestamp': 'date_enrolment',\n     'unit': 'celsius'},\n\n    {'from_name': 'Shock',\n     'to_name': 'shock',\n     'timestamp': 'date_enrolment'},\n\n    # Example replace widget\n    {'from_name': 'Sex', 'to_name': 'gender',\n     'to_replace': {'Male': 1, 'Female': 2},\n     'timestamp': 'date_enrolment'},\n\n    # Example parameters to be stacked.\n    # Note that uses a different date.\n    {'from_name': 'CoughLevel',\n     'to_name': 'cough_level',\n     'timestamp': 'cough_date'},\n\n    {'from_name': 'CoughDate',\n     'to_name': 'cough_date',\n     'datetime': True},\n\n    # Example event\n    {'from_name': 'DateIllness',\n     'to_name': 'date_onset',\n     'datetime': True,\n     'event': 'event_onset'},\n\n    # Example study day\n    {'from_name': 'LabSampleStudyDay',\n     'to_name': 'lab_study_day'},\n\n    {'from_name': None,\n     'to_name': 'date_laboratory',\n     'study_day_col': 'lab_study_day',\n     'study_day_ref': 'date_enrolment'},\n\n    {'from_name': 'hct',\n     'to_name': 'hct',\n     'timestamp': 'date_laboratory',\n     'unit': '%'},\n\n    {'from_name': 'wbc',\n     'to_name': 'wbc',\n     'timestamp': 'date_laboratory',\n     'unit':'10^9U/L'}\n\n]\n\n# Data\ndata = [\n    {'StudyNo': '32dx-001',\n     'enDate': '11/07/2020', 'enTime': '10:00',\n     'DateIllness': '05/07/2020',\n     'Temp': 37.2, 'Shock': False, 'Sex': 1,\n     'CoughLevel': 1, 'CoughDate': '12/07/2020',\n     'hct': 2.0, 'wbc': 3.5, 'LabSampleStudyDay': 3},\n\n    {'StudyNo': '32dx-002',\n     'enDate':'12/07/2020', 'enTime': '11:00',\n     'DateIllness': '09/07/2020',\n     'Temp': 36.5, 'Shock': False, 'Sex': 1,\n     'CoughLevel': 5, 'CoughDate': '14/07/2020',\n     'hct': 3.0, 'wbc': 2.0, 'LabSampleStudyDay': 5},\n\n    {'StudyNo': '32dx-003',\n     'enDate': '13/07/2020', 'enTime': '12:00',\n     'Temp': 39.8, 'Shock': True, 'Sex': 2,\n     'CoughLevel': 2, 'CoughDate': '13/07/2020',\n     'hct': 4.0, 'wbc': 3.0, 'LabSampleStudyDay': 1},\n\n    {'StudyNo': '32dx-004',\n     'enDate':'14/07/2020', 'enTime': '13:00',\n     'Temp': 37.4, 'Shock': False, 'Sex': 1,\n     'hct': 7.0, 'wbc': 1.0, 'LabSampleStudyDay': 2},\n\n]\n\n# Create DataFrames\ntemplate = pd.DataFrame(template)\ndata = pd.DataFrame(data)\n\n#template = template.drop(columns=['timestamp'])\n#template.timestamp = None\n#template.event = None\n#template = template.drop(columns=['to_name'])\n\n# Transformed (order matters!)\ntransformed = RenameWidget().fit_transform(template, data)\ntransformed = TemplateTransformWidget().fit_transform(template, transformed)\ntransformed = ReplaceWidget().fit_transform(template, transformed)\ntransformed = DateTimeMergeWidget().fit_transform(template, transformed)\ntransformed = DateFromStudyDayWidget().fit_transform(template, transformed)\ntransformed = EventWidget().fit_transform(template, transformed)\n\n# Stack data\nstacked = StackWidget(index=['study_number']) \\\n    .fit_transform(template, transformed)\n\n# Show\nprint(\"\\nOriginal:\")\nprint(data)\nprint(\"\\nTransformed:\")\nprint(transformed)\nprint(\"\\nStacked:\")\nprint(stacked)\n\n# Show data types\nprint(\"\\n\")\nprint(str_dtypes(data))"
      ]
    }
  ],
  "metadata": {
    "kernelspec": {
      "display_name": "Python 3",
      "language": "python",
      "name": "python3"
    },
    "language_info": {
      "codemirror_mode": {
        "name": "ipython",
        "version": 3
      },
      "file_extension": ".py",
      "mimetype": "text/x-python",
      "name": "python",
      "nbconvert_exporter": "python",
      "pygments_lexer": "ipython3",
      "version": "3.7.7"
    }
  },
  "nbformat": 4,
  "nbformat_minor": 0
}
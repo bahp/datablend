{
  "cells": [
    {
      "cell_type": "code",
      "execution_count": null,
      "metadata": {
        "collapsed": false
      },
      "outputs": [],
      "source": [
        "%matplotlib inline"
      ]
    },
    {
      "cell_type": "markdown",
      "metadata": {},
      "source": [
        "\n# Replace values (replace)\n"
      ]
    },
    {
      "cell_type": "code",
      "execution_count": null,
      "metadata": {
        "collapsed": false
      },
      "outputs": [],
      "source": [
        "# Import\nimport numpy as np\nimport pandas as pd\n\n# DataBlend library\nfrom datablend.core.repair.correctors import replace_correction\n\n# ------------------------\n# Constants\n# ------------------------\n# Sample\nsample1 = pd.Series(['DENV-1',\n                     'DENV-2',\n                     'DENV-1,DENV-2',\n                     np.nan,\n                     None,\n                     'Empty',\n                     'empty',\n                     'NEG',\n                     'No sample',\n                     'No Sample'])\n\n# values to replace\nto_replace = {\n    'Empty': None,\n    'empty': None,\n    'NEG': '<LOD',\n    'No Sample': None,\n    'No sample': None\n}\n\n# ------------------------\n# Main\n# ------------------------\n# Correct\na = replace_correction(sample1, to_replace=to_replace)\n\n# Show\nprint(\"\\n%s\" % pd.concat([sample1, a], axis=1))"
      ]
    }
  ],
  "metadata": {
    "kernelspec": {
      "display_name": "Python 3",
      "language": "python",
      "name": "python3"
    },
    "language_info": {
      "codemirror_mode": {
        "name": "ipython",
        "version": 3
      },
      "file_extension": ".py",
      "mimetype": "text/x-python",
      "name": "python",
      "nbconvert_exporter": "python",
      "pygments_lexer": "ipython3",
      "version": "3.7.7"
    }
  },
  "nbformat": 4,
  "nbformat_minor": 0
}
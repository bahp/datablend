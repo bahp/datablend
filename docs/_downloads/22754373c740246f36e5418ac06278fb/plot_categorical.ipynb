{
  "cells": [
    {
      "cell_type": "code",
      "execution_count": null,
      "metadata": {
        "collapsed": false
      },
      "outputs": [],
      "source": [
        "%matplotlib inline"
      ]
    },
    {
      "cell_type": "markdown",
      "metadata": {},
      "source": [
        "\n# Ensure categories (category)\n"
      ]
    },
    {
      "cell_type": "code",
      "execution_count": null,
      "metadata": {
        "collapsed": false
      },
      "outputs": [],
      "source": [
        "# Import\nimport numpy as np\nimport pandas as pd\n\n# Specific\nfrom itertools import product\nfrom itertools import combinations\n\n# DataBlend library\nfrom datablend.core.repair.correctors import categorical_correction\n\n# -----------------------------\n# Main\n# -----------------------------\n# Define categories\ncategories = ['DENV-1', 'DENV-2']\n\n# -----------------------------\n# pcr_dengue\n# -----------------------------\n# Possible values\npcr_dengue_serotype = [None,\n                       pd.NA,\n                       'DENV-1',\n                       'DENV-2',\n                       'DENV-8']\n\n# Product\nmatrix = product(pcr_dengue_serotype,\n                 pcr_dengue_serotype)\n\n# Combine as strings\nmatrix = [','.join(map(str, tup)) for tup in matrix]\n\n# Data\ndata1 = pd.Series(pcr_dengue_serotype)\ndata2 = pd.Series(matrix)\ndata3 = data1.append(data2)\n\n# Corrections\ncorrection1 = categorical_correction(data1,\n    categories=categories, errors='coerce')\n\ncorrection2 = categorical_correction(data2,\n    categories=categories, errors='coerce',\n    allow_combinations=True)\n\ncorrection3 = categorical_correction(data3,\n    categories=categories, errors='coerce',\n    allow_combinations=True)\n\n# Show\nprint(\"\\nNote: The categorical_corrector is still being developed. In\\n\"\n      \"particular it does not raise errors and it assumes that\\n\"\n      \"allow_combinations=True (ignore correction 4).\")\nprint(\"\\n%s\" % pd.concat([data1, correction1], axis=1))\nprint(\"\\n%s\" % pd.concat([data2, correction2], axis=1))\nprint(\"\\n%s\" % pd.concat([data3, correction3], axis=1))"
      ]
    }
  ],
  "metadata": {
    "kernelspec": {
      "display_name": "Python 3",
      "language": "python",
      "name": "python3"
    },
    "language_info": {
      "codemirror_mode": {
        "name": "ipython",
        "version": 3
      },
      "file_extension": ".py",
      "mimetype": "text/x-python",
      "name": "python",
      "nbconvert_exporter": "python",
      "pygments_lexer": "ipython3",
      "version": "3.7.7"
    }
  },
  "nbformat": 4,
  "nbformat_minor": 0
}
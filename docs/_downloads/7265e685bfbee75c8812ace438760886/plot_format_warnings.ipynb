{
  "cells": [
    {
      "cell_type": "code",
      "execution_count": null,
      "metadata": {
        "collapsed": false
      },
      "outputs": [],
      "source": [
        "%matplotlib inline"
      ]
    },
    {
      "cell_type": "markdown",
      "metadata": {},
      "source": [
        "\n# Warnings\n\nBlenderTemplate warnings\n - duplicated from_name\n - null to_name\n - to_replace not a map\n - column does not exist in data\n - not a datetime.\n"
      ]
    },
    {
      "cell_type": "code",
      "execution_count": null,
      "metadata": {
        "collapsed": false
      },
      "outputs": [],
      "source": [
        "# Import\nimport pandas as pd\n\n# DataBlend library\nfrom datablend.core.blend.template import BlenderTemplate\nfrom datablend.core.widgets.format import DateTimeMergeWidget\nfrom datablend.core.widgets.format import ReplaceWidget\nfrom datablend.core.widgets.format import RenameWidget\nfrom datablend.core.widgets.format import DateFromStudyDayWidget\nfrom datablend.core.widgets.format import EventWidget\nfrom datablend.core.widgets.stack import StackWidget\nfrom datablend.core.widgets.stack import StackUnitWidget\n\n# ------------------------\n# Constants\n# ------------------------\n# Template\ntemplate = [\n    {'from_name': 'StudyNo', 'to_name': 'study_number'},\n]\n\n# Data\ndata = [\n    {'StudyNo': '32dx-001', 'enDate': '2020/12/01', 'enTime': '10:00'},\n    {'StudyNo': '32dx-002', 'enDate': '2020/12/04', 'enTime': '11:00'},\n    {'StudyNo': '32dx-003', 'enDate': '2020/12/08', 'enTime': '04:30'},\n    {'StudyNo': '32dx-004', 'enDate': '2020/12/11', 'enTime': '09:07'},\n    {'StudyNo': '32dx-004', 'enDate': '2020/12/11', 'enTime': '24:00'},\n]\n\n# Blender template\nbt = BlenderTemplate().fit(template)\n\n# Create data\ndata = pd.DataFrame(data)\n\n# Create widgets and transform\ntrans = DateTimeMergeWidget(errors='warn').fit_transform(bt, data)\ntrans = ReplaceWidget(errors='warn').fit_transform(bt, data)\ntrans = DateFromStudyDayWidget(errors='warn').fit_transform(bt, data)\ntrans = EventWidget(errors='warn').fit_transform(bt, data)\ntrans = RenameWidget(errors='warn').fit_transform(bt, data)\n\n# Why does it show unit in both??\nstack = StackWidget(index=['StudyNo'], errors='warn').fit_transform(bt, data)\nstack = StackWidget(index=['StudyNo'], with_unit=False, errors='warn').fit_transform(bt, data)\n\n# Show\nprint(\"\\nOriginal:\")\nprint(data)\nprint(\"\\nTransformed:\")\nprint(trans)"
      ]
    }
  ],
  "metadata": {
    "kernelspec": {
      "display_name": "Python 3",
      "language": "python",
      "name": "python3"
    },
    "language_info": {
      "codemirror_mode": {
        "name": "ipython",
        "version": 3
      },
      "file_extension": ".py",
      "mimetype": "text/x-python",
      "name": "python",
      "nbconvert_exporter": "python",
      "pygments_lexer": "ipython3",
      "version": "3.7.7"
    }
  },
  "nbformat": 4,
  "nbformat_minor": 0
}
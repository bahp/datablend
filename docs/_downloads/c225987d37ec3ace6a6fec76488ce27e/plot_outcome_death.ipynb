{
  "cells": [
    {
      "cell_type": "code",
      "execution_count": null,
      "metadata": {
        "collapsed": false
      },
      "outputs": [],
      "source": [
        "%matplotlib inline"
      ]
    },
    {
      "cell_type": "markdown",
      "metadata": {},
      "source": [
        "\n# Fix outcome from event_death\n"
      ]
    },
    {
      "cell_type": "code",
      "execution_count": null,
      "metadata": {
        "collapsed": false
      },
      "outputs": [],
      "source": [
        "# Libraries\nimport pandas as pd\n\n# Specific\nfrom itertools import product\n\n# DataBlend Library\nfrom datablend.core.repair.correctors import oucru_outcome_death_correction\n\n# -----------------------------\n# Main\n# -----------------------------\n# .. note: According to our definition event_death\n#          is only pd.NA or True. It is never false.\ndata = [\n    ['0', None, None],\n    ['1', None, None],\n    ['2', None, None],\n    ['2', None, True],\n    ['3', 'Died', False],\n    ['4', 'Died', True],\n    ['5', 'Alive', True],\n    ['6', 'Alive', False],\n    ['7', 'Alive', None],\n]\n\n# -----------------------------\n# event_death\n# -----------------------------\n# Combinations\ndata = pd.DataFrame(data,\n    columns=['study_no',\n             'outcome',\n             'event_death'])\n\n# Correction\ncorrection = data.copy(deep=True)\ncorrection = oucru_outcome_death_correction(correction)\n\n# Show data any\nprint(\"\\nNote:\\nThe events columns as defined in oucru \"\n      \"should never contain False values.\\nSince they \"\n      \"are only flagged when appearing in the spreadsheets \"\n      \"and\\ntherefore contain only True or pd.NA.\")\n\nprint(\"\\nData:\")\nprint(data)\nprint(\"\\nCorrection:\")\nprint(correction)"
      ]
    }
  ],
  "metadata": {
    "kernelspec": {
      "display_name": "Python 3",
      "language": "python",
      "name": "python3"
    },
    "language_info": {
      "codemirror_mode": {
        "name": "ipython",
        "version": 3
      },
      "file_extension": ".py",
      "mimetype": "text/x-python",
      "name": "python",
      "nbconvert_exporter": "python",
      "pygments_lexer": "ipython3",
      "version": "3.7.7"
    }
  },
  "nbformat": 4,
  "nbformat_minor": 0
}
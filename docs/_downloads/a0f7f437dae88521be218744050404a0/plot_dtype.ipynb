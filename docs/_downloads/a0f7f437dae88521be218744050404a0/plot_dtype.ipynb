{
  "cells": [
    {
      "cell_type": "code",
      "execution_count": null,
      "metadata": {
        "collapsed": false
      },
      "outputs": [],
      "source": [
        "%matplotlib inline"
      ]
    },
    {
      "cell_type": "markdown",
      "metadata": {},
      "source": [
        "\n# Ensure dtype (dtype)\n"
      ]
    },
    {
      "cell_type": "code",
      "execution_count": null,
      "metadata": {
        "collapsed": false
      },
      "outputs": [],
      "source": [
        "# Import\nimport numpy as np\nimport pandas as pd\n\n# DataBlend library\nfrom datablend.core.repair.correctors import dtype_correction\n\n# ------------------------\n# Constants\n# ------------------------\n# Examples\nsample0 = pd.Series([0, 1, 0, 1, None, pd.NA])                 # boolean\nsample1 = pd.Series([True, False, True, None])                 # boolean\nsample2 = pd.Series([1, 0, True, False,\n    'True', 'False', 'Yes', 'No',\n    'TRuE', 'FaLSE', 'Y', 'N', None, pd.NA])                   # boolean\nsample5 = pd.Series([0, 1, 5, '12', '33', None, pd.NA])        # integers\nsample6 = pd.Series([0, 4, 4.8, '12.24', '33.2', None, pd.NA]) # float\nsample7 = pd.Series([0, 'not number', 4, 28, 23, None, pd.NA]) # Coerce\n\n# ------------------------\n# Main\n# ------------------------\n# Correct\nbool1 = dtype_correction(sample0, dtype='boolean')\nbool2 = dtype_correction(sample1, dtype='boolean')\nbool3 = dtype_correction(sample2, dtype='boolean', errors='coerce')\n\nnum1 = dtype_correction(sample5, dtype='Int64', errors='coerce')\nnum2 = dtype_correction(sample6, dtype='Int64', errors='coerce')\nnum3 = dtype_correction(sample7, dtype='Int64', errors='coerce')\n\n# Show\nprint(\"\\nNote: If series has decimal values the returned series\\n \"\n      \"(num2) will also contain decimal values even when Int64\\n \"\n      \"is specified.\")\n\nprint(\"\\nNote: Coerce with booleans will transform Yes/No, Y/N\\n \"\n      \"and others to boolean. However, it will raise an exception\\n \"\n      \"when values (e.g. numbers) cant be cast to boolean.\")\n\nprint(\"\\n%s\" % pd.concat([sample0, bool1], axis=1))\nprint(\"\\n%s\" % pd.concat([sample1, bool2], axis=1))\nprint(\"\\n%s\" % pd.concat([sample2, bool3], axis=1))\n\nprint(\"\\n%s\" % pd.concat([sample5, num1], axis=1))\nprint(\"\\n%s\" % pd.concat([sample6, num2], axis=1))\nprint(\"\\n%s\" % pd.concat([sample7, num3], axis=1))"
      ]
    }
  ],
  "metadata": {
    "kernelspec": {
      "display_name": "Python 3",
      "language": "python",
      "name": "python3"
    },
    "language_info": {
      "codemirror_mode": {
        "name": "ipython",
        "version": 3
      },
      "file_extension": ".py",
      "mimetype": "text/x-python",
      "name": "python",
      "nbconvert_exporter": "python",
      "pygments_lexer": "ipython3",
      "version": "3.7.7"
    }
  },
  "nbformat": 4,
  "nbformat_minor": 0
}
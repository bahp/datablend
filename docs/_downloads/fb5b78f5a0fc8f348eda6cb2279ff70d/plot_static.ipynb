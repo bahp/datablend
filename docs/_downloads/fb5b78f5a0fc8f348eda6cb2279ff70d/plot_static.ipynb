{
  "cells": [
    {
      "cell_type": "code",
      "execution_count": null,
      "metadata": {
        "collapsed": false
      },
      "outputs": [],
      "source": [
        "%matplotlib inline"
      ]
    },
    {
      "cell_type": "markdown",
      "metadata": {},
      "source": [
        "\n# Ensure consistent value (static)\n"
      ]
    },
    {
      "cell_type": "code",
      "execution_count": null,
      "metadata": {
        "collapsed": false
      },
      "outputs": [],
      "source": [
        "# Import\nimport numpy as np\nimport pandas as pd\n\n# DataBlend library\nfrom datablend.core.repair.correctors import static_correction\n\n# ------------------------\n# Constants\n# ------------------------\n#\nsample1 = pd.Series([1, 2, 3, 2, 4, 5])\nsample2 = pd.Series([np.nan, np.nan, np.nan])\nsample3 = pd.Series([np.nan, 4, np.nan])\nsample4 = pd.Series([4, pd.NA, pd.NA])\nsample5 = pd.Series([4, 4, pd.NA])\nsample6 = pd.Series([4, 4, 4, 4])\nsample7 = pd.Series([True, False, False, False])\nsample8 = pd.Series(['True', 'False', 'False'])\nsample9 = pd.Series([1.55, 2.28, 3.34])\n\n# ------------------------\n# Main\n# ------------------------\n# Correct\na = static_correction(sample1, method='max')\nb = static_correction(sample2, method='max')\nc = static_correction(sample3, method='max')\nh = static_correction(sample5, method='max')\ni = static_correction(sample6, method='max')\nj = static_correction(sample7, method='max')\nk = static_correction(sample8, method='max')\n\nd = static_correction(sample1, method='min')\ne = static_correction(sample1, method='mode')\nf = static_correction(sample1, method='mean')\ng = static_correction(sample1, method='median')\nl = static_correction(sample9, method='mean')\n\n# Show\nprint(\"\\nMax:\")\nprint(\"%s\" % pd.concat([sample1, a], axis=1))\nprint(\"\\n%s\" % pd.concat([sample2, b], axis=1))\nprint(\"\\n%s\" % pd.concat([sample3, c], axis=1))\nprint(\"\\n%s\" % pd.concat([sample5, h], axis=1))\nprint(\"\\n%s\" % pd.concat([sample6, i], axis=1))\nprint(\"\\n%s\" % pd.concat([sample7, j], axis=1))\nprint(\"\\n%s\" % pd.concat([sample8, k], axis=1))\n\nprint(\"\\nMin:\")\nprint(\"%s\" % pd.concat([sample1, d], axis=1))\nprint(\"\\nMode:\")\nprint(\"%s\" % pd.concat([sample1, e], axis=1))\nprint(\"\\nMean:\")\nprint(\"%s\" % pd.concat([sample1, f], axis=1))\nprint(\"\\nMedian:\")\nprint(\"%s\" % pd.concat([sample1, g], axis=1))\nprint(\"\\nMedian:\")\nprint(\"%s\" % pd.concat([sample9, l], axis=1))"
      ]
    }
  ],
  "metadata": {
    "kernelspec": {
      "display_name": "Python 3",
      "language": "python",
      "name": "python3"
    },
    "language_info": {
      "codemirror_mode": {
        "name": "ipython",
        "version": 3
      },
      "file_extension": ".py",
      "mimetype": "text/x-python",
      "name": "python",
      "nbconvert_exporter": "python",
      "pygments_lexer": "ipython3",
      "version": "3.7.7"
    }
  },
  "nbformat": 4,
  "nbformat_minor": 0
}
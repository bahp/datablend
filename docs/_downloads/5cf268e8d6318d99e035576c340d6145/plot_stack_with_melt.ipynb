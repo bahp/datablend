{
  "cells": [
    {
      "cell_type": "code",
      "execution_count": null,
      "metadata": {
        "collapsed": false
      },
      "outputs": [],
      "source": [
        "%matplotlib inline"
      ]
    },
    {
      "cell_type": "markdown",
      "metadata": {},
      "source": [
        "\n# StackWidget\n"
      ]
    },
    {
      "cell_type": "code",
      "execution_count": null,
      "metadata": {
        "collapsed": false
      },
      "outputs": [],
      "source": [
        "# Import\nimport pandas as pd\n\n# DataBlend library\nfrom datablend.core.blend.template import BlenderTemplate\nfrom datablend.core.widgets.stack import StackWidget\n\n# ------------------------\n# Constants\n# ------------------------\n# Template\ntemplate = [\n    # Example rename widget\n    {'from_name': 'StudyNo', 'to_name': 'study_number'},\n    {'from_name': 'DateEnrol', 'to_name': 'date_enrolment'},\n    {'from_name': 'Sex', 'to_name': 'gender', 'timestamp': 'date_enrolment'},\n    {'from_name': 'Tmp', 'to_name': 'body_temperature',\n        'timestamp': 'date_enrolment', 'unit': 'celsius'},\n    {'from_name': 'Tmp2', 'to_name': 'body_temperature',\n        'timestamp': 'date_enrolment', 'unit':'celsius'}\n]\n\n# Data\ndata = [\n    {'StudyNo': '32dx-001', 'DateEnrol': '2020/12/01', 'Sex': 1, 'Tmp': 37.5},\n    {'StudyNo': '32dx-002', 'DateEnrol': '2020/12/04', 'Sex': 2, 'Tmp': 36.8},\n    {'StudyNo': '32dx-003', 'DateEnrol': '2020/12/08', 'Sex': 1, 'Tmp': 39.2, 'Tmp2': 35.0},\n    {'StudyNo': '32dx-004', 'DateEnrol': '2020/12/11', 'Sex': 1},\n]\n\n# Blender template\nbt = BlenderTemplate().fit(template)\n\n# Create data\ndata = pd.DataFrame(data)\n\naux = data.melt(id_vars=['StudyNo', 'DateEnrol'],\n                var_name='column',\n                value_name='result').dropna()\n\naux.column = aux.column.replace(\n    {e['from_name']: e['to_name']\n        for e in template})\n\n# Stack data\nstack = StackWidget(index=['study_number']).fit_transform(bt, data)\n\n# Show\nprint(\"\\nOriginal:\")\nprint(data)\nprint(\"\\nStack:\")\nprint(stack)\nprint(\"\\nMelt:\")\nprint(aux)"
      ]
    }
  ],
  "metadata": {
    "kernelspec": {
      "display_name": "Python 3",
      "language": "python",
      "name": "python3"
    },
    "language_info": {
      "codemirror_mode": {
        "name": "ipython",
        "version": 3
      },
      "file_extension": ".py",
      "mimetype": "text/x-python",
      "name": "python",
      "nbconvert_exporter": "python",
      "pygments_lexer": "ipython3",
      "version": "3.7.7"
    }
  },
  "nbformat": 4,
  "nbformat_minor": 0
}
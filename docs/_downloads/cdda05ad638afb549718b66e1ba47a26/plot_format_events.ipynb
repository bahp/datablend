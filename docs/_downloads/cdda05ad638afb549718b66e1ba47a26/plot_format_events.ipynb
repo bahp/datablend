{
  "cells": [
    {
      "cell_type": "code",
      "execution_count": null,
      "metadata": {
        "collapsed": false
      },
      "outputs": [],
      "source": [
        "%matplotlib inline"
      ]
    },
    {
      "cell_type": "markdown",
      "metadata": {},
      "source": [
        "\n# EventWidget\n"
      ]
    },
    {
      "cell_type": "code",
      "execution_count": null,
      "metadata": {
        "collapsed": false
      },
      "outputs": [],
      "source": [
        "# Import\nimport pandas as pd\n\n# DataBlend library\nfrom datablend.core.blend.blender import BlenderTemplate\nfrom datablend.core.widgets.format import EventWidget\n\n# ------------------------\n# Constants\n# ------------------------\n# Template\ntemplate = [\n    # Example rename widget\n    {'from_name': 'StudyNo', 'to_name': 'study_number'},\n    {'from_name': 'LabStudyDay', 'to_name': 'lab_study_day'},\n\n    # Example event\n    {'from_name': 'DateEnrol',\n     'to_name': 'date_enrolment',\n     'event': 'event_enrolment'},\n]\n\n# Data\ndata = [\n    {'StudyNo': '32dx-001', 'DateEnrol': '2020/12/01', 'LabStudyDay': 1},\n    {'StudyNo': '32dx-002', 'DateEnrol': '2020/12/04', 'LabStudyDay': 5},\n    {'StudyNo': '32dx-003', 'DateEnrol': '2020/12/08', 'LabStudyDay': 0},\n    {'StudyNo': '32dx-004', 'DateEnrol': '2020/12/11', 'LabStudyDay': 10},\n    {'StudyNo': '32dx-005', 'LabStudyDay': 3},\n    {'StudyNo': '32dx-005', 'DateEnrol': '2020/12/07'}\n]\n\n# Blender template\nbt = BlenderTemplate().fit(template)\n\n# Create data\ndata = pd.DataFrame(data)\n\n# Create widgets and transform\ntrans = EventWidget().fit_transform(bt, data)\n\n# Show\nprint(\"\\nOriginal:\")\nprint(data)\nprint(\"\\nTransformed:\")\nprint(trans)"
      ]
    }
  ],
  "metadata": {
    "kernelspec": {
      "display_name": "Python 3",
      "language": "python",
      "name": "python3"
    },
    "language_info": {
      "codemirror_mode": {
        "name": "ipython",
        "version": 3
      },
      "file_extension": ".py",
      "mimetype": "text/x-python",
      "name": "python",
      "nbconvert_exporter": "python",
      "pygments_lexer": "ipython3",
      "version": "3.7.7"
    }
  },
  "nbformat": 4,
  "nbformat_minor": 0
}
{
  "cells": [
    {
      "cell_type": "code",
      "execution_count": null,
      "metadata": {
        "collapsed": false
      },
      "outputs": [],
      "source": [
        "%matplotlib inline"
      ]
    },
    {
      "cell_type": "markdown",
      "metadata": {},
      "source": [
        "\n# Blender with single input\n\nExample using ``Blender`` with data collected from a single sources.\n"
      ]
    },
    {
      "cell_type": "code",
      "execution_count": null,
      "metadata": {
        "collapsed": false
      },
      "outputs": [],
      "source": [
        "# Import\nimport pandas as pd\n\n# DataBlend library\nfrom datablend.core.blend import Blender\nfrom datablend.core.widgets.format import RenameWidget\nfrom datablend.core.widgets.format import ReplaceWidget\n\n\n# ------------------------\n# Constants\n# ------------------------\n# Templates\ntemplate = [\n    # Body Temperature\n    {'from_name': 'Temp',\n     'to_name': 'body_temperature',\n     'timestamp': 'date_exam',\n     'unit': 'celsius'},\n\n    # Gender\n    {'from_name': 'Sex', 'to_name': 'gender',\n     'to_replace': {'Male': 1, 'Female': 2},\n     'timestamp': 'date_exam'},\n]\n\n# Data\ndata = [\n    {'pid': '32dx-001', 'date_exam': '10/07/2020', 'Temp': 37.2, 'Sex': 1},\n    {'pid': '32dx-002', 'date_exam': '08/07/2020', 'Temp': 37.5, 'Sex': 2},\n    {'pid': '32dx-003', 'date_exam': '10/07/2020', 'Temp': 36.7, 'Sex': 2},\n]\n\n# Create templates dictionary\ntemplates = pd.DataFrame(template)\ndata = pd.DataFrame(data)\n\n# Create blender\nblender = Blender(widgets=[ReplaceWidget(),\n                           RenameWidget()])\n\n# Fit blender to templates.\nblender = blender.fit(info=templates)\n\n# Transform data\ntransformed = blender.transform(data)\n\n# Stack data\nstacked = blender.stack(transformed, index='pid')\n\n# Show\nprint(\"\\nOriginal:\")\nprint(data)\nprint(\"\\nTransformed:\")\nprint(transformed)\nprint(\"\\nStacked:\")\nprint(stacked)"
      ]
    }
  ],
  "metadata": {
    "kernelspec": {
      "display_name": "Python 3",
      "language": "python",
      "name": "python3"
    },
    "language_info": {
      "codemirror_mode": {
        "name": "ipython",
        "version": 3
      },
      "file_extension": ".py",
      "mimetype": "text/x-python",
      "name": "python",
      "nbconvert_exporter": "python",
      "pygments_lexer": "ipython3",
      "version": "3.7.7"
    }
  },
  "nbformat": 4,
  "nbformat_minor": 0
}
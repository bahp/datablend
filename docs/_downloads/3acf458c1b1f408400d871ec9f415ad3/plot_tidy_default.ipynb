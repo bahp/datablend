{
  "cells": [
    {
      "cell_type": "code",
      "execution_count": null,
      "metadata": {
        "collapsed": false
      },
      "outputs": [],
      "source": [
        "%matplotlib inline"
      ]
    },
    {
      "cell_type": "markdown",
      "metadata": {},
      "source": [
        "\n# TidyDefault\n\n.. deprecated\n"
      ]
    },
    {
      "cell_type": "code",
      "execution_count": null,
      "metadata": {
        "collapsed": false
      },
      "outputs": [],
      "source": [
        "# Import\nimport pandas as pd\n\n# DataBlend library\nfrom datablend.core.widgets.tidy import DefaultTidyWidget\n\n# ------------------------\n# Constants\n# ------------------------\n# Template\ntemplate = [\n    # Example rename widget\n    {'from_name': 'StudyNo', 'to_name': 'study_number'},\n    {'from_name': 'Temp', 'to_name': 'bt'},\n    {'from_name': 'Pain', 'to_name': 'pain_level', 'default': 0},\n    {'from_name': 'Pregnant', 'to_name': 'pregnant', 'default': False}\n]\n\n# Transformed data\ntrans = [\n    {'study_number': '32dx-001', 'bt': 37.2, 'pain_level': 1, 'pregnant': True},\n    {'study_number': '32dx-001', 'bt': 39.2},\n    {'study_number': '32dx-002', 'bt': 36.5, 'pain_level': 2, 'pregnant': True},\n    {'study_number': '32dx-003', 'bt': 39.8},\n    {'study_number': '32dx-004', 'bt': 37.4}\n]\n\n# Create data\ndata = pd.DataFrame(trans)\n\n# Create widget\n#widget = DefaultTidyWidget().fit(template)\n\n# Transform\n#transformed = widget.transform(data)\n\n# Transform\n#transformed_manual = widget.transform(data, map={'pain_level': 0, 'pregnant': False})\n\n# Show\n#print(\"\\nOriginal:\")\n#print(data)\n#print(\"\\nTransformed:\")\n#print(transformed)\n#print(\"\\nTransformed manual:\")\n#print(transformed_manual)\n#print(\"\\nAre they equal? %s\" % transformed.equals(transformed_manual))"
      ]
    }
  ],
  "metadata": {
    "kernelspec": {
      "display_name": "Python 3",
      "language": "python",
      "name": "python3"
    },
    "language_info": {
      "codemirror_mode": {
        "name": "ipython",
        "version": 3
      },
      "file_extension": ".py",
      "mimetype": "text/x-python",
      "name": "python",
      "nbconvert_exporter": "python",
      "pygments_lexer": "ipython3",
      "version": "3.7.7"
    }
  },
  "nbformat": 4,
  "nbformat_minor": 0
}
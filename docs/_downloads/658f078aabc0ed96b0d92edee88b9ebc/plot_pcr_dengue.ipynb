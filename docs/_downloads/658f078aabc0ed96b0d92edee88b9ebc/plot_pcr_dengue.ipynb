{
  "cells": [
    {
      "cell_type": "code",
      "execution_count": null,
      "metadata": {
        "collapsed": false
      },
      "outputs": [],
      "source": [
        "%matplotlib inline"
      ]
    },
    {
      "cell_type": "markdown",
      "metadata": {},
      "source": [
        "\n# Fix PCR dengue (load, sero and out)\n"
      ]
    },
    {
      "cell_type": "code",
      "execution_count": null,
      "metadata": {
        "collapsed": false
      },
      "outputs": [],
      "source": [
        "# Libraries\nimport numpy as np\nimport pandas as pd\n\n# Specific\nfrom itertools import product\nfrom itertools import combinations\n\n# DataBlend library\nfrom datablend.core.repair.correctors import oucru_pcr_dengue_correction\n\n# -----------------------------\n# Main\n# -----------------------------\n\n# -----------------------------\n# pcr_dengue\n# -----------------------------\n# Possible values\npcr_dengue_load = [None, 0, 1000]\npcr_dengue_serotype = [None, '<LOD', 'DENV-1']\npcr_dengue_interpretation = [None, 'Confirmed', 'Suspected']\n\n# Product\nmatrix = product(pcr_dengue_load,\n                 pcr_dengue_serotype,\n                 pcr_dengue_interpretation)\n\n# Combinations\ndata = pd.DataFrame(matrix,\n    columns=['pcr_dengue_load',\n             'pcr_dengue_serotype',\n             'pcr_dengue_interpretation'])\n\n# Correction\ncorrection = data.copy(deep=True)\ncorrection = oucru_pcr_dengue_correction(correction)\n\n# Show data any\nprint(\"\\nData:\")\nprint(data)\nprint(\"\\nCorrection:\")\nprint(correction)"
      ]
    }
  ],
  "metadata": {
    "kernelspec": {
      "display_name": "Python 3",
      "language": "python",
      "name": "python3"
    },
    "language_info": {
      "codemirror_mode": {
        "name": "ipython",
        "version": 3
      },
      "file_extension": ".py",
      "mimetype": "text/x-python",
      "name": "python",
      "nbconvert_exporter": "python",
      "pygments_lexer": "ipython3",
      "version": "3.7.7"
    }
  },
  "nbformat": 4,
  "nbformat_minor": 0
}
{
  "cells": [
    {
      "cell_type": "code",
      "execution_count": null,
      "metadata": {
        "collapsed": false
      },
      "outputs": [],
      "source": [
        "%matplotlib inline"
      ]
    },
    {
      "cell_type": "markdown",
      "metadata": {},
      "source": [
        "\n# Ensure only one True (unique_true)\n"
      ]
    },
    {
      "cell_type": "code",
      "execution_count": null,
      "metadata": {
        "collapsed": false
      },
      "outputs": [],
      "source": [
        "# Import\nimport numpy as np\nimport pandas as pd\n\n# DataBlend library\nfrom datablend.core.repair.correctors import unique_true_value_correction\n\n# ------------------------\n# Constants\n# ------------------------\n# Samples\nsample1 = pd.Series([np.nan, True, np.nan, np.nan, True])\nsample2 = pd.Series([np.nan, 1, True, np.nan, True])\nsample3 = pd.Series([np.nan, 'TRUe', True, np.nan, True])\nsample4 = pd.Series([np.nan, 'Y', True, np.nan, True])\nsample5 = pd.Series([np.nan, True, 1, 0, True, 'no boolean'])\nsample6 = pd.Series([np.nan, True, False, True, False, False])\n\n# ------------------------\n# Main\n# ------------------------\n# Correct\na = unique_true_value_correction(sample1, keep='first')\nb = unique_true_value_correction(sample1, keep='last')\nc = unique_true_value_correction(sample2, keep='first')\nd = unique_true_value_correction(sample3, keep='first')\ne = unique_true_value_correction(sample4, keep='first')\n#f = unique_true_value_correction(sample5, keep='first') # raise error\ng = unique_true_value_correction(sample6, keep='first')\n\n# Show\nprint(\"\\n%s\" % pd.concat([sample1, a], axis=1))\nprint(\"\\n%s\" % pd.concat([sample1, b], axis=1))\nprint(\"\\n%s\" % pd.concat([sample2, c], axis=1))\nprint(\"\\n%s\" % pd.concat([sample3, d], axis=1))\nprint(\"\\n%s\" % pd.concat([sample4, e], axis=1))\nprint(\"\\n%s\" % pd.concat([sample6, g], axis=1))"
      ]
    }
  ],
  "metadata": {
    "kernelspec": {
      "display_name": "Python 3",
      "language": "python",
      "name": "python3"
    },
    "language_info": {
      "codemirror_mode": {
        "name": "ipython",
        "version": 3
      },
      "file_extension": ".py",
      "mimetype": "text/x-python",
      "name": "python",
      "nbconvert_exporter": "python",
      "pygments_lexer": "ipython3",
      "version": "3.7.7"
    }
  },
  "nbformat": 4,
  "nbformat_minor": 0
}
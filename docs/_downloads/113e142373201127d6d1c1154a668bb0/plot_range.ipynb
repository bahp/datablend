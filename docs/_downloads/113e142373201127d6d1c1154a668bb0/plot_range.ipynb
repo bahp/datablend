{
  "cells": [
    {
      "cell_type": "code",
      "execution_count": null,
      "metadata": {
        "collapsed": false
      },
      "outputs": [],
      "source": [
        "%matplotlib inline"
      ]
    },
    {
      "cell_type": "markdown",
      "metadata": {},
      "source": [
        "\n# Ensure range (range)\n"
      ]
    },
    {
      "cell_type": "code",
      "execution_count": null,
      "metadata": {
        "collapsed": false
      },
      "outputs": [],
      "source": [
        "# Import\nimport numpy as np\nimport pandas as pd\n\n# DataBlend library\nfrom datablend.core.repair.correctors import range_correction\n\n# ------------------------\n# Constants\n# ------------------------\n#\nsample1 = pd.Series([1, 2, 3, np.nan, 2, 4, pd.NA])\n\n# ------------------------\n# Main\n# ------------------------\n# Correct\na = range_correction(sample1, range=(0, 5))\nb = range_correction(sample1, range=(3, 4))\nc = range_correction(sample1, range=(4, 3))\nd = range_correction(sample1, range=(3, 4), value=333)\n\n# Show\nprint(\"\\n%s\" % pd.concat([sample1, a], axis=1))\nprint(\"\\n%s\" % pd.concat([sample1, b], axis=1))\nprint(\"\\n%s\" % pd.concat([sample1, c], axis=1))\nprint(\"\\n%s\" % pd.concat([sample1, d], axis=1))"
      ]
    }
  ],
  "metadata": {
    "kernelspec": {
      "display_name": "Python 3",
      "language": "python",
      "name": "python3"
    },
    "language_info": {
      "codemirror_mode": {
        "name": "ipython",
        "version": 3
      },
      "file_extension": ".py",
      "mimetype": "text/x-python",
      "name": "python",
      "nbconvert_exporter": "python",
      "pygments_lexer": "ipython3",
      "version": "3.7.7"
    }
  },
  "nbformat": 4,
  "nbformat_minor": 0
}
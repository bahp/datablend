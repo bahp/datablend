{
  "cells": [
    {
      "cell_type": "code",
      "execution_count": null,
      "metadata": {
        "collapsed": false
      },
      "outputs": [],
      "source": [
        "%matplotlib inline"
      ]
    },
    {
      "cell_type": "markdown",
      "metadata": {},
      "source": [
        "\n# RenameWidget\n"
      ]
    },
    {
      "cell_type": "markdown",
      "metadata": {},
      "source": [
        "First of all, we need to import the modules and functions that will be used\nImport\n\n"
      ]
    },
    {
      "cell_type": "code",
      "execution_count": null,
      "metadata": {
        "collapsed": false
      },
      "outputs": [],
      "source": [
        "import pandas as pd\n\n# DataBlend library\nfrom datablend.core.widgets.tidy import StaticTidyWidget\n\n# ------------------------\n# Constants\n# ------------------------\n# Template\ntemplate = [\n    # Example rename widget\n    {'from_name': 'StudyNo', 'to_name': 'study_number'},\n    {'from_name': 'Temp', 'to_name': 'bt'},\n    {'from_name': 'Sex', 'to_name': 'gender', 'static': True},\n    {'from_name': 'Age', 'to_name': 'age', 'static': True}\n]\n\n# Transformed data\ntrans = [\n    {'study_number': '32dx-001', 'bt': 37.2, 'age': 12, 'gender': 1},\n    {'study_number': '32dx-001', 'bt': 39.2},\n    {'study_number': '32dx-002', 'bt': 36.5, 'age': 15, 'gender': 1},\n    {'study_number': '32dx-002', 'bt': 39.3, 'age': 15},\n    {'study_number': '32dx-003', 'bt': 39.8, 'age': 30, 'gender': 2},\n    {'study_number': '32dx-004', 'bt': 37.4, 'age': 35, 'gender': 1}\n]\n\n# Create data\ndata = pd.DataFrame(trans)\n\n# Create widget\nwidget = StaticTidyWidget().fit(template)\n\n# Transform\ntransformed = widget.transform(data)\n\n# Show\nprint(\"\\nOriginal:\")\nprint(data)\nprint(\"\\nTransformed:\")\nprint(transformed)\nprint(\"\\nStacked:\")"
      ]
    }
  ],
  "metadata": {
    "kernelspec": {
      "display_name": "Python 3",
      "language": "python",
      "name": "python3"
    },
    "language_info": {
      "codemirror_mode": {
        "name": "ipython",
        "version": 3
      },
      "file_extension": ".py",
      "mimetype": "text/x-python",
      "name": "python",
      "nbconvert_exporter": "python",
      "pygments_lexer": "ipython3",
      "version": "3.7.7"
    }
  },
  "nbformat": 4,
  "nbformat_minor": 0
}
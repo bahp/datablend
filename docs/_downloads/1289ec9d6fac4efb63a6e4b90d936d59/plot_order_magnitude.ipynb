{
  "cells": [
    {
      "cell_type": "code",
      "execution_count": null,
      "metadata": {
        "collapsed": false
      },
      "outputs": [],
      "source": [
        "%matplotlib inline"
      ]
    },
    {
      "cell_type": "markdown",
      "metadata": {},
      "source": [
        "\n# Repair order of magnitude (order)\n"
      ]
    },
    {
      "cell_type": "code",
      "execution_count": null,
      "metadata": {
        "collapsed": false
      },
      "outputs": [],
      "source": [
        "# Import\nimport numpy as np\nimport pandas as pd\n\n# DataBlend library\nfrom datablend.core.repair.correctors import order_magnitude_correction\n\n# ------------------------\n# Constants\n# ------------------------\n#\nsample1 = pd.Series([30, 35.5, 37.4, np.nan, 376, 3600, pd.NA])\n\n# ------------------------\n# Main\n# ------------------------\n# Correct\na = order_magnitude_correction(sample1, range=(30, 45))\nb = order_magnitude_correction(sample1, range=(30, 45), orders=[10])\n\n# Show\nprint(\"\\n%s\" % pd.concat([sample1, a], axis=1))\nprint(\"\\n%s\" % pd.concat([sample1, b], axis=1))"
      ]
    }
  ],
  "metadata": {
    "kernelspec": {
      "display_name": "Python 3",
      "language": "python",
      "name": "python3"
    },
    "language_info": {
      "codemirror_mode": {
        "name": "ipython",
        "version": 3
      },
      "file_extension": ".py",
      "mimetype": "text/x-python",
      "name": "python",
      "nbconvert_exporter": "python",
      "pygments_lexer": "ipython3",
      "version": "3.7.7"
    }
  },
  "nbformat": 4,
  "nbformat_minor": 0
}
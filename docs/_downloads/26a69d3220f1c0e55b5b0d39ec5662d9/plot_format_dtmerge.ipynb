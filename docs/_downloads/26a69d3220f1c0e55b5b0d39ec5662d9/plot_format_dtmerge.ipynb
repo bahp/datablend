{
  "cells": [
    {
      "cell_type": "code",
      "execution_count": null,
      "metadata": {
        "collapsed": false
      },
      "outputs": [],
      "source": [
        "%matplotlib inline"
      ]
    },
    {
      "cell_type": "markdown",
      "metadata": {},
      "source": [
        "\n# DateTimeMergeWidget\n"
      ]
    },
    {
      "cell_type": "code",
      "execution_count": null,
      "metadata": {
        "collapsed": false
      },
      "outputs": [],
      "source": [
        "# Import\nimport pandas as pd\n\n# DataBlend library\nfrom datablend.core.blend.blender import BlenderTemplate\nfrom datablend.core.widgets.format import DateTimeMergeWidget\n\n# ------------------------\n# Constants\n# ------------------------\n# Template\ntemplate = [\n    # Example rename widget\n    {'from_name': 'StudyNo', 'to_name': 'study_number'},\n\n    # Example datetime merge\n    {'from_name': None,\n     'to_name': 'date_enrolment',\n     'datetime_date': 'enDate',\n     'datetime_time': 'enTime'},\n]\n\n# Data\ndata = [\n    {'StudyNo': '32dx-001', 'enDate': '10/25/10', 'enTime': '10:00'},\n    {'StudyNo': '32dx-002', 'enDate': '10/11/12', 'enTime': '11:00'},\n    {'StudyNo': '32dx-003', 'enDate': '10/11/12', 'enTime': '04:30'},\n    {'StudyNo': '32dx-004', 'enDate': '10/11/12', 'enTime': '09:07'},\n    {'StudyNo': '32dx-004', 'enDate': '10/11/12', 'enTime': '24:00'}, # MM/DD/YY\n]\n\n# Blender template\nbt = BlenderTemplate().fit(template)\n\n# Create data\ndata = pd.DataFrame(data)\n\n# Create widgets and transform\ntrans = DateTimeMergeWidget().fit_transform(bt, data)\n\n# Show\nprint(\"\\nOriginal:\")\nprint(data)\nprint(\"\\nTransformed:\")\nprint(trans)"
      ]
    }
  ],
  "metadata": {
    "kernelspec": {
      "display_name": "Python 3",
      "language": "python",
      "name": "python3"
    },
    "language_info": {
      "codemirror_mode": {
        "name": "ipython",
        "version": 3
      },
      "file_extension": ".py",
      "mimetype": "text/x-python",
      "name": "python",
      "nbconvert_exporter": "python",
      "pygments_lexer": "ipython3",
      "version": "3.7.7"
    }
  },
  "nbformat": 4,
  "nbformat_minor": 0
}
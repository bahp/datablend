{
  "cells": [
    {
      "cell_type": "code",
      "execution_count": null,
      "metadata": {
        "collapsed": false
      },
      "outputs": [],
      "source": [
        "%matplotlib inline"
      ]
    },
    {
      "cell_type": "markdown",
      "metadata": {},
      "source": [
        "\n# Fill missing values (fillna)\n"
      ]
    },
    {
      "cell_type": "code",
      "execution_count": null,
      "metadata": {
        "collapsed": false
      },
      "outputs": [],
      "source": [
        "# Import\nimport numpy as np\nimport pandas as pd\n\n# DataBlend library\nfrom datablend.core.repair.correctors import fillna_correction\n\n# ------------------------\n# Constants\n# ------------------------\n#\nsample1 = pd.Series([np.nan, 1, np.nan, 2, np.nan, np.nan, np.nan, 4])\n\n# ------------------------\n# Main\n# ------------------------\n# Correct\na = fillna_correction(sample1, method='ffill')\nb = fillna_correction(sample1, method='bfill')\nc = fillna_correction(sample1, method='fbfill')\nd = fillna_correction(sample1, method='ffill', limit=1)\n\n# Show\nprint(\"\\n%s\" % pd.concat([sample1, a], axis=1))\nprint(\"\\n%s\" % pd.concat([sample1, b], axis=1))\nprint(\"\\n%s\" % pd.concat([sample1, c], axis=1))\nprint(\"\\n%s\" % pd.concat([sample1, d], axis=1))"
      ]
    }
  ],
  "metadata": {
    "kernelspec": {
      "display_name": "Python 3",
      "language": "python",
      "name": "python3"
    },
    "language_info": {
      "codemirror_mode": {
        "name": "ipython",
        "version": 3
      },
      "file_extension": ".py",
      "mimetype": "text/x-python",
      "name": "python",
      "nbconvert_exporter": "python",
      "pygments_lexer": "ipython3",
      "version": "3.7.7"
    }
  },
  "nbformat": 4,
  "nbformat_minor": 0
}
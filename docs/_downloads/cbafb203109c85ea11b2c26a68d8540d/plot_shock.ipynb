{
  "cells": [
    {
      "cell_type": "code",
      "execution_count": null,
      "metadata": {
        "collapsed": false
      },
      "outputs": [],
      "source": [
        "%matplotlib inline"
      ]
    },
    {
      "cell_type": "markdown",
      "metadata": {},
      "source": [
        "\n# Fix shock, multiple and event_shock\n"
      ]
    },
    {
      "cell_type": "code",
      "execution_count": null,
      "metadata": {
        "collapsed": false
      },
      "outputs": [],
      "source": [
        "# Libraries\nimport pandas as pd\n\n# Specific\nfrom itertools import product\n\n# DataBlend Library\nfrom datablend.core.repair.correctors import oucru_shock_correction\n\n# -----------------------------\n# Main\n# -----------------------------\ndata = [\n    ['0', None, None, None],\n    ['1', None, None, True],\n    ['2', None, None, None],\n    ['2', None, None, True],\n    ['2', None, None, True],\n    ['3', None, True, None],\n    ['4', False, True, None],\n    ['5', True, False, None],\n    ['6', True, False, True],\n    ['7', True, False, True],\n    ['7', True, False, True],\n    ['8', False, True, None],\n    ['9', None, True, None],\n    ['10', pd.NA, pd.NA, pd.NA]\n]\n\n# -----------------------------\n# pcr_dengue\n# -----------------------------\n# Combinations\ndata = pd.DataFrame(data,\n    columns=['study_no',\n             'shock',\n             'shock_multiple',\n             'event_shock'])\n\n#data = data.drop(columns=['shock'])\n\n# Correction\ncorrection = data.copy(deep=True)\ncorrection = oucru_shock_correction(correction)\n\n# Show data any\nprint(\"\\nData:\")\nprint(data)\nprint(\"\\nCorrection:\")\nprint(correction)"
      ]
    }
  ],
  "metadata": {
    "kernelspec": {
      "display_name": "Python 3",
      "language": "python",
      "name": "python3"
    },
    "language_info": {
      "codemirror_mode": {
        "name": "ipython",
        "version": 3
      },
      "file_extension": ".py",
      "mimetype": "text/x-python",
      "name": "python",
      "nbconvert_exporter": "python",
      "pygments_lexer": "ipython3",
      "version": "3.7.7"
    }
  },
  "nbformat": 4,
  "nbformat_minor": 0
}
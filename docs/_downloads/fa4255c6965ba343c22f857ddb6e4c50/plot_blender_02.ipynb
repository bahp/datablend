{
  "cells": [
    {
      "cell_type": "code",
      "execution_count": null,
      "metadata": {
        "collapsed": false
      },
      "outputs": [],
      "source": [
        "%matplotlib inline"
      ]
    },
    {
      "cell_type": "markdown",
      "metadata": {},
      "source": [
        "\n# Blender with multiple inputs\n\nExample using ``Blender`` with data collected from several sources.\n\n<div class=\"alert alert-info\"><h4>Note</h4><p>Each data source has a different ``BlenderTemplate``.</p></div>\n\n<div class=\"alert alert-info\"><h4>Note</h4><p>``Pandas`` reads .xlsx files with different sheets as a dictionary\n          where the key is the worksheet name and the value is the\n          DataFrame. Therefore, .xlsx files loaded with pandas can be\n          inputed to ``Blender`` as in the example below.</p></div>\n"
      ]
    },
    {
      "cell_type": "code",
      "execution_count": null,
      "metadata": {
        "collapsed": false
      },
      "outputs": [],
      "source": [
        "# Import\nimport pandas as pd\n\n# DataBlend library\nfrom datablend.core.blend.blender import Blender\nfrom datablend.core.widgets.format import ReplaceWidget\n\n# ------------------------\n# Constants\n# ------------------------\n# Templates\ntemplate_exam = [\n    # Body Temperature\n    {'from_name': 'Temp',\n     'to_name': 'body_temperature',\n     'timestamp': 'date_exam',\n     'unit': 'celsius'},\n\n    # Gender\n    {'from_name': 'Sex', 'to_name': 'gender',\n     'to_replace': {1: 'Male', 2: 'Female'},\n     'timestamp': 'date_exam'},\n]\n\n# .. note: In order to use the ReplaceWidget, the template needs to\n#          include the 'to_replace' column. In this example, we are\n#          using the same blender template for both worksheets\n#          (exam and lab) so will include an empty to_replace in\n#          the latter.\n\ntemplate_lab = [\n    # HCT\n    {'from_name': 'hct',\n     'to_name': 'hct',\n     'timestamp': 'date',\n     'unit': '%'},\n\n    # WBC\n    {'from_name': 'wbc',\n     'to_name': 'wbc',\n     'timestamp': 'date',\n     'unit': '10^9U/L',\n     'to_replace': None}\n]\n\n# Data\ndata_exam = [\n    {'pid': '32dx-001', 'date_exam': '10/07/2020', 'Temp': 37.2, 'Sex': 1},\n    {'pid': '32dx-002', 'date_exam': '08/07/2020', 'Temp': 37.5, 'Sex': 2},\n    {'pid': '32dx-003', 'date_exam': '10/07/2020', 'Temp': 36.7, 'Sex': 2},\n]\n\ndata_lab = [\n    {'pid': '32dx-001', 'date': '11/07/2020', 'hct': 1.0, 'wbc': 1.5},\n    {'pid': '32dx-001', 'date': '12/07/2020', 'hct': 2.0, 'wbc': 2.5},\n    {'pid': '32dx-001', 'date': '13/07/2020', 'hct': 3.0, 'wbc': 3.5},\n    {'pid': '32dx-001', 'date': '14/07/2020', 'hct': 4.0, 'wbc': 4.5},\n    {'pid': '32dx-001', 'date': '15/07/2020', 'hct': 5.0, 'wbc': 5.5},\n    {'pid': '32dx-002', 'date': '09/07/2020', 'hct': 1.0, 'wbc': 3.5},\n    {'pid': '32dx-002', 'date': '10/07/2020', 'hct': 3.0, 'wbc': 3.2},\n    {'pid': '32dx-002', 'date': '11/07/2020', 'hct': 3.0, 'wbc': 4.3},\n    {'pid': '32dx-003', 'date': '20/07/2020', 'hct': 2.0, 'wbc': 1.5},\n    {'pid': '32dx-003', 'date': '21/07/2020', 'hct': 4.0, 'wbc': 2.5},\n]\n\n\n# Create templates dictionary\ntemplates = {\n    'EXAM': pd.DataFrame(template_exam),\n    'LAB': pd.DataFrame(template_lab)\n}\n\n# Create data dictionary\ndata = {\n    'EXAM': pd.DataFrame(data_exam),\n    'LAB': pd.DataFrame(data_lab)\n}\n\n# Create blender\nblender = Blender(widgets=[ReplaceWidget(errors='raise')])\n\n# Fit blender to templates.\nblender = blender.fit(info=templates)\n\n# Transform data\ntransformed = blender.transform(data)\n\n# Stack data\nstacked = blender.stack(transformed, index='pid')\n\n# Show\nprint(\"\\nOriginal:\")\nfor k,v in data.items():\n    print(\"\\n%s:\" % k)\n    print(v)\n\nprint(\"\\nTransformed:\")\nfor k,v in transformed.items():\n    print(\"\\n%s:\" % k)\n    print(v)\n\nprint(\"\\nStacked:\")\nfor k,v in stacked.items():\n    print(\"\\n%s:\" % k)\n    print(v)"
      ]
    }
  ],
  "metadata": {
    "kernelspec": {
      "display_name": "Python 3",
      "language": "python",
      "name": "python3"
    },
    "language_info": {
      "codemirror_mode": {
        "name": "ipython",
        "version": 3
      },
      "file_extension": ".py",
      "mimetype": "text/x-python",
      "name": "python",
      "nbconvert_exporter": "python",
      "pygments_lexer": "ipython3",
      "version": "3.7.7"
    }
  },
  "nbformat": 4,
  "nbformat_minor": 0
}
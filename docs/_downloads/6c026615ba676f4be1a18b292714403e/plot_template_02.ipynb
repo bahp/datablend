{
  "cells": [
    {
      "cell_type": "code",
      "execution_count": null,
      "metadata": {
        "collapsed": false
      },
      "outputs": [],
      "source": [
        "%matplotlib inline"
      ]
    },
    {
      "cell_type": "markdown",
      "metadata": {},
      "source": [
        "\n# Blender with single input\n\nExample using ``Blender`` works with data collected from a single sources.\n"
      ]
    },
    {
      "cell_type": "code",
      "execution_count": null,
      "metadata": {
        "collapsed": false
      },
      "outputs": [],
      "source": [
        "# Libraries\nimport pathlib\nimport pandas as pd\n\n# DataBlend libraries\nfrom datablend.core.blend.template import BlenderTemplate\n\n\n# --------------------\n# Constants\n# --------------------\n# Data\ndata = [\n    {'pid': '32dx-001', 'date_exam': '10/07/2020', 'Temp': 37.2, 'Sex': 1},\n    {'pid': '32dx-002', 'date_exam': '08/07/2020', 'Temp': 37.5, 'Sex': 2},\n    {'pid': '32dx-003', 'date_exam': '10/07/2020', 'Temp': 36.7, 'Sex': 2},\n]\n\n# --------------------\n# Main\n# --------------------\n# Read all data sheets\ndata = pd.DataFrame(data)\n\n# Create template\ntemplate = BlenderTemplate().fit_from_data(data)\n\n# Show\nprint(template)"
      ]
    }
  ],
  "metadata": {
    "kernelspec": {
      "display_name": "Python 3",
      "language": "python",
      "name": "python3"
    },
    "language_info": {
      "codemirror_mode": {
        "name": "ipython",
        "version": 3
      },
      "file_extension": ".py",
      "mimetype": "text/x-python",
      "name": "python",
      "nbconvert_exporter": "python",
      "pygments_lexer": "ipython3",
      "version": "3.7.7"
    }
  },
  "nbformat": 4,
  "nbformat_minor": 0
}
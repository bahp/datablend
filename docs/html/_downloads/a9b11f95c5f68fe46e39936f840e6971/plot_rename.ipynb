{
  "cells": [
    {
      "cell_type": "code",
      "execution_count": null,
      "metadata": {
        "collapsed": false
      },
      "outputs": [],
      "source": [
        "%matplotlib inline"
      ]
    },
    {
      "cell_type": "markdown",
      "metadata": {},
      "source": [
        "\n# RenameWidget\n"
      ]
    },
    {
      "cell_type": "markdown",
      "metadata": {},
      "source": [
        "First of all, we need to import the modules and functions that will be used\nImport\n\n"
      ]
    },
    {
      "cell_type": "code",
      "execution_count": null,
      "metadata": {
        "collapsed": false
      },
      "outputs": [],
      "source": [
        "import pandas as pd\n\n# DataBlend library\nfrom datablend.core.widgets import RenameWidget\n\n# ------------------------\n# Constants\n# ------------------------\n# Template\ntemplate = [\n    # Example rename widget\n    {'from_name': 'StudyNo', 'to_name': 'study_number'},\n    {'from_name': 'Temp', 'to_name': 'body_temperature'},\n    {'from_name': 'Shock', 'to_name': 'shock'},\n    {'from_name': 'Sex', 'to_name': 'gender'}\n]\n\n# Data\ndata = [\n    {'StudyNo': '32dx-001', 'Temp': 37.2, 'Shock': False, 'Sex': 1},\n    {'StudyNo': '32dx-002', 'Temp': 36.5, 'Shock': False, 'Sex': 1},\n    {'StudyNo': '32dx-003', 'Temp': 39.8, 'Shock': True, 'Sex': 2},\n    {'StudyNo': '32dx-004', 'Temp': 37.4, 'Shock': False, 'Sex': 1}\n]\n\n# Create data\ndata = pd.DataFrame(data)\n\n# Create widget\nwidget = RenameWidget().fit(template)\n\n# Transform\ntransformed = widget.transform(data)\n\n# Show\nprint(\"\\nOriginal:\")\nprint(data)\nprint(\"\\nTransformed:\")\nprint(transformed)\nprint(\"\\nStacked:\")"
      ]
    }
  ],
  "metadata": {
    "kernelspec": {
      "display_name": "Python 3",
      "language": "python",
      "name": "python3"
    },
    "language_info": {
      "codemirror_mode": {
        "name": "ipython",
        "version": 3
      },
      "file_extension": ".py",
      "mimetype": "text/x-python",
      "name": "python",
      "nbconvert_exporter": "python",
      "pygments_lexer": "ipython3",
      "version": "3.7.7"
    }
  },
  "nbformat": 4,
  "nbformat_minor": 0
}
{
  "cells": [
    {
      "cell_type": "code",
      "execution_count": null,
      "metadata": {
        "collapsed": false
      },
      "outputs": [],
      "source": [
        "%matplotlib inline"
      ]
    },
    {
      "cell_type": "markdown",
      "metadata": {},
      "source": [
        "\n# DateFromStudyDayWidget\n"
      ]
    },
    {
      "cell_type": "code",
      "execution_count": null,
      "metadata": {
        "collapsed": false
      },
      "outputs": [],
      "source": [
        "# Import\nimport pandas as pd\n\n# DataBlend library\nfrom datablend.core.blend import BlenderTemplate\nfrom datablend.core.widgets import RenameWidget\nfrom datablend.core.widgets import DateFromStudyDayWidget\n\n# ------------------------\n# Constants\n# ------------------------\n# Template\ntemplate = [\n    # Example rename widget\n    {'from_name': 'StudyNo', 'to_name': 'study_number'},\n    {'from_name': 'DateEnrol', 'to_name': 'date_enrolment'},\n    {'from_name': 'LabStudyDay', 'to_name': 'lab_study_day'},\n\n    # Example date from study day widget\n    {'from_name': None,\n     'to_name': 'date_laboratory',\n     'study_day_col': 'lab_study_day',\n     'study_day_ref': 'date_enrolment'},\n]\n\n# Data\ndata = [\n    {'StudyNo': '32dx-001', 'DateEnrol': '2020/12/01', 'LabStudyDay': 1},\n    {'StudyNo': '32dx-002', 'DateEnrol': '2020/12/04', 'LabStudyDay': 5},\n    {'StudyNo': '32dx-003', 'DateEnrol': '2020/12/11', 'LabStudyDay': 10},\n    {'StudyNo': '32dx-004', 'DateEnrol': '2020/12/08 04:30', 'LabStudyDay': 0},\n    {'StudyNo': '32dx-005', 'LabStudyDay': 3},\n    {'StudyNo': '32dx-005', 'DateEnrol': '2020/12/07'}\n]\n\n# Blender template\nbt = BlenderTemplate().fit(template)\n\n# Create data\ndata = pd.DataFrame(data)\n\n# Create widgets and transform\ntrans = RenameWidget().fit_transform(bt, data)\ntrans = DateFromStudyDayWidget().fit_transform(bt, trans)\n\n# Show\nprint(\"\\nOriginal:\")\nprint(data)\nprint(\"\\nTransformed:\")\nprint(trans)"
      ]
    }
  ],
  "metadata": {
    "kernelspec": {
      "display_name": "Python 3",
      "language": "python",
      "name": "python3"
    },
    "language_info": {
      "codemirror_mode": {
        "name": "ipython",
        "version": 3
      },
      "file_extension": ".py",
      "mimetype": "text/x-python",
      "name": "python",
      "nbconvert_exporter": "python",
      "pygments_lexer": "ipython3",
      "version": "3.7.7"
    }
  },
  "nbformat": 4,
  "nbformat_minor": 0
}
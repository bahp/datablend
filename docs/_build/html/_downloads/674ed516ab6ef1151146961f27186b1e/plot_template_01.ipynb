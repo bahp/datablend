{
  "cells": [
    {
      "cell_type": "code",
      "execution_count": null,
      "metadata": {
        "collapsed": false
      },
      "outputs": [],
      "source": [
        "%matplotlib inline"
      ]
    },
    {
      "cell_type": "markdown",
      "metadata": {},
      "source": [
        "\n# Fitting a blender template\n"
      ]
    },
    {
      "cell_type": "code",
      "execution_count": null,
      "metadata": {
        "collapsed": false
      },
      "outputs": [],
      "source": [
        "# Import\nimport pandas as pd\n\n# DataBlend libraries\nfrom datablend.core.blend import BlenderTemplate\n\n# ------------------------\n# Constants\n# ------------------------\n# Template\ntemplate = [\n    # Example rename widget\n    {'from_name': 'StudyNo', 'to_name': 'study_number'},\n    {'from_name': 'Temp', 'to_name': 'body_temperature'},\n    {'from_name': 'Shock', 'to_name': 'shock'},\n    {'from_name': 'Sex', 'to_name': 'gender'}\n]\n\n# ------------------------\n# Main\n# ------------------------\n# Create blender DataFrame template\nbt_df = pd.DataFrame(template)\n\n# Create blender template\nbt1 = BlenderTemplate().fit(bt_df)\nbt2 = BlenderTemplate().fit(template)\n\n# Show\nprint(bt1)\nprint(bt2)"
      ]
    }
  ],
  "metadata": {
    "kernelspec": {
      "display_name": "Python 3",
      "language": "python",
      "name": "python3"
    },
    "language_info": {
      "codemirror_mode": {
        "name": "ipython",
        "version": 3
      },
      "file_extension": ".py",
      "mimetype": "text/x-python",
      "name": "python",
      "nbconvert_exporter": "python",
      "pygments_lexer": "ipython3",
      "version": "3.7.7"
    }
  },
  "nbformat": 4,
  "nbformat_minor": 0
}